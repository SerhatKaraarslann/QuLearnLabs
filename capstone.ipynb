{
 "cells": [
  {
   "cell_type": "code",
   "execution_count": null,
   "id": "b0dd8b63",
   "metadata": {},
   "outputs": [],
   "source": [
    "from qiskit import QuantumCircuit\n",
    "from qiskit.primitives import StatevectorSampler\n",
    "from qiskit.quantum_info import Statevector"
   ]
  },
  {
   "cell_type": "code",
   "execution_count": null,
   "id": "65be5de9",
   "metadata": {},
   "outputs": [],
   "source": [
    "grover_circ = QuantumCircuit(4)\n",
    "\n"
   ]
  }
 ],
 "metadata": {
  "language_info": {
   "name": "python"
  }
 },
 "nbformat": 4,
 "nbformat_minor": 5
}
